{
 "cells": [
  {
   "metadata": {},
   "cell_type": "markdown",
   "source": [
    "- Zbiór danych iris podziel na 5 losowych podzbiorów.\n",
    "- Dla każdego z nich wygeneruj reguły decyzyjne.\n",
    "- Posortuj otrzymane reguły względem pokrycia.\n",
    "- Przeanalizuj otrzymane wyniki.\n"
   ],
   "id": "d6b71f3193d41025"
  },
  {
   "metadata": {
    "ExecuteTime": {
     "end_time": "2025-06-13T08:30:39.593713Z",
     "start_time": "2025-06-13T08:30:37.956716Z"
    }
   },
   "cell_type": "code",
   "source": [
    "from sklearn.datasets import load_iris\n",
    "import pandas as pd\n",
    "from helpers import sequential_covering\n",
    "\n",
    "iris = load_iris()\n",
    "\n",
    "df = pd.DataFrame(iris.data, columns=iris.feature_names)\n",
    "df['Decyzja'] = iris.target\n",
    "\n",
    "partition_count = 5\n",
    "max_rules = 5\n",
    "\n",
    "rules_per_partition = []\n",
    "\n",
    "for i in range(partition_count):\n",
    "    df_partition = df.sample(frac=0.7, random_state=i) # losowo wybieramy 70% wierszy.\n",
    "\n",
    "    #dyskretyzacja\n",
    "    X_dysk = df_partition.copy()\n",
    "\n",
    "    for column in iris.feature_names:\n",
    "        X_dysk[column] = pd.qcut(df[column], q=3, duplicates='drop').astype(str) # podział danych na 3 kwantyle.\n",
    "\n",
    "    X = X_dysk[iris.feature_names]\n",
    "    y = df_partition[\"Decyzja\"]\n",
    "\n",
    "    rules = sequential_covering(X, y, max_rules=max_rules)\n",
    "    rules_per_partition.append(rules)\n",
    "\n",
    "    print(f\"przedział {i+1}:\")\n",
    "    for regula, class_rules, liczba_pokrytych in sorted(rules, key=lambda x: x[2], reverse = True):\n",
    "        warunki = \" AND \".join([f\"{atr} = {wart}\" for atr, wart in regula])\n",
    "        print(f\" {warunki} -> {iris.target_names[class_rules]} (pokryte: {liczba_pokrytych})\")\n",
    "    print(\"\")"
   ],
   "id": "14a4ec08c2656779",
   "outputs": [
    {
     "name": "stdout",
     "output_type": "stream",
     "text": [
      "przedział 1:\n",
      " petal width (cm) = (1.6, 2.5] -> virginica (pokryte: 34)\n",
      " petal length (cm) = (0.999, 2.633] -> setosa (pokryte: 33)\n",
      " petal width (cm) = (0.099, 0.867] -> setosa (pokryte: 33)\n",
      " petal width (cm) = (0.867, 1.6] AND petal length (cm) = (2.633, 4.9] -> versicolor (pokryte: 33)\n",
      " petal length (cm) = (2.633, 4.9] AND sepal length (cm) = (6.3, 7.9] -> versicolor (pokryte: 6)\n",
      "\n",
      "przedział 2:\n",
      " petal length (cm) = (0.999, 2.633] -> setosa (pokryte: 33)\n",
      " petal width (cm) = (0.099, 0.867] -> setosa (pokryte: 33)\n",
      " petal length (cm) = (2.633, 4.9] AND sepal length (cm) = (6.3, 7.9] -> versicolor (pokryte: 7)\n",
      " sepal width (cm) = (3.2, 4.4] AND sepal length (cm) = (6.3, 7.9] -> virginica (pokryte: 5)\n",
      " sepal length (cm) = (4.2989999999999995, 5.4] AND petal length (cm) = (2.633, 4.9] -> versicolor (pokryte: 4)\n",
      "\n",
      "przedział 3:\n",
      " petal length (cm) = (0.999, 2.633] -> setosa (pokryte: 37)\n",
      " petal width (cm) = (0.099, 0.867] -> setosa (pokryte: 37)\n",
      " sepal width (cm) = (1.999, 2.9] AND petal length (cm) = (4.9, 6.9] -> virginica (pokryte: 13)\n",
      " petal length (cm) = (4.9, 6.9] AND sepal length (cm) = (5.4, 6.3] -> virginica (pokryte: 10)\n",
      " petal width (cm) = (0.867, 1.6] AND petal length (cm) = (4.9, 6.9] -> virginica (pokryte: 3)\n",
      "\n",
      "przedział 4:\n",
      " petal length (cm) = (0.999, 2.633] -> setosa (pokryte: 37)\n",
      " petal width (cm) = (0.099, 0.867] -> setosa (pokryte: 37)\n",
      " petal width (cm) = (0.867, 1.6] AND petal length (cm) = (2.633, 4.9] -> versicolor (pokryte: 31)\n",
      " sepal width (cm) = (1.999, 2.9] AND petal width (cm) = (1.6, 2.5] -> virginica (pokryte: 13)\n",
      " petal length (cm) = (2.633, 4.9] AND sepal length (cm) = (6.3, 7.9] -> versicolor (pokryte: 9)\n",
      "\n",
      "przedział 5:\n",
      " petal length (cm) = (0.999, 2.633] -> setosa (pokryte: 35)\n",
      " petal width (cm) = (0.099, 0.867] -> setosa (pokryte: 35)\n",
      " petal width (cm) = (0.867, 1.6] AND petal length (cm) = (2.633, 4.9] -> versicolor (pokryte: 34)\n",
      " sepal width (cm) = (1.999, 2.9] AND petal width (cm) = (1.6, 2.5] -> virginica (pokryte: 13)\n",
      " sepal length (cm) = (4.2989999999999995, 5.4] AND petal width (cm) = (0.867, 1.6] -> versicolor (pokryte: 4)\n",
      "\n"
     ]
    }
   ],
   "execution_count": 3
  }
 ],
 "metadata": {},
 "nbformat": 4,
 "nbformat_minor": 5
}
