{
 "cells": [
  {
   "metadata": {},
   "cell_type": "markdown",
   "source": [
    "- Zastosuj algorytm sequential covering do otrzymania reguł decyzyjnych ze zbioru iris.\n",
    "- Zabiór danych iris, jest dostępny w bibliotece sklearn.datasets."
   ],
   "id": "5e26b0d453d95eeb"
  },
  {
   "cell_type": "code",
   "id": "eac2691f",
   "metadata": {
    "ExecuteTime": {
     "end_time": "2025-06-13T08:35:01.904115Z",
     "start_time": "2025-06-13T08:35:00.980658Z"
    }
   },
   "source": [
    "from sklearn.datasets import load_iris\n",
    "import pandas as pd\n",
    "from helpers import sequential_covering, predict\n",
    "\n",
    "iris = load_iris()\n",
    "\n",
    "df = pd.DataFrame(iris.data, columns=iris.feature_names)\n",
    "df['Decyzja'] = iris.target\n",
    "\n",
    "# dyskretyzacja\n",
    "X_dysk = df.copy()\n",
    "for column in iris.feature_names:\n",
    "    X_dysk[column] = pd.qcut(df[column], q=3, duplicates='drop').astype(str)  # podział danych na 3 kwantyle.\n",
    "\n",
    "X = X_dysk.drop(columns=[\"Decyzja\"])\n",
    "y = df[\"Decyzja\"]\n",
    "\n",
    "rules = sequential_covering(X, y, max_rules=10)\n",
    "\n",
    "print(\"Wygenerowane reguły decyzyjne:\")\n",
    "for rule, rule_class, count in rules:\n",
    "    print(\" AND \".join([f\"{atr} = {value}\" for atr, value in rule]), f\" -> Klasa: {rule_class}, Pokrycie: {count}\")\n",
    "\n",
    "# Testowanie modelu na zbiorze oryginalnym\n",
    "predictions = predict(X, rules)\n",
    "df[\"Predykcja\"] = predictions\n",
    "print(df)\n",
    "\n",
    "# Obliczenie dokładności\n",
    "accuracy = (df[\"Decyzja\"] == df[\"Predykcja\"]).mean()\n",
    "print(f\"Dokładność klasyfikacji: {accuracy * 100:.2f}%\")"
   ],
   "outputs": [
    {
     "name": "stdout",
     "output_type": "stream",
     "text": [
      "Wygenerowane reguły decyzyjne:\n",
      "petal length (cm) = (0.999, 2.633]  -> Klasa: 0, Pokrycie: 50\n",
      "petal width (cm) = (0.099, 0.867]  -> Klasa: 0, Pokrycie: 50\n",
      "petal length (cm) = (2.633, 4.9] AND sepal length (cm) = (6.3, 7.9]  -> Klasa: 1, Pokrycie: 10\n",
      "petal width (cm) = (0.867, 1.6] AND petal length (cm) = (2.633, 4.9]  -> Klasa: 1, Pokrycie: 47\n",
      "petal length (cm) = (2.633, 4.9] AND sepal width (cm) = (3.2, 4.4]  -> Klasa: 1, Pokrycie: 2\n",
      "petal width (cm) = (0.867, 1.6] AND sepal length (cm) = (4.2989999999999995, 5.4]  -> Klasa: 1, Pokrycie: 6\n",
      "petal width (cm) = (0.867, 1.6] AND sepal width (cm) = (3.2, 4.4]  -> Klasa: 1, Pokrycie: 2\n",
      "petal length (cm) = (4.9, 6.9] AND sepal width (cm) = (3.2, 4.4]  -> Klasa: 2, Pokrycie: 8\n",
      "sepal width (cm) = (1.999, 2.9] AND petal width (cm) = (1.6, 2.5]  -> Klasa: 2, Pokrycie: 18\n",
      "petal width (cm) = (1.6, 2.5] AND sepal length (cm) = (4.2989999999999995, 5.4]  -> Klasa: 2, Pokrycie: 1\n",
      "     sepal length (cm)  sepal width (cm)  petal length (cm)  petal width (cm)  \\\n",
      "0                  5.1               3.5                1.4               0.2   \n",
      "1                  4.9               3.0                1.4               0.2   \n",
      "2                  4.7               3.2                1.3               0.2   \n",
      "3                  4.6               3.1                1.5               0.2   \n",
      "4                  5.0               3.6                1.4               0.2   \n",
      "..                 ...               ...                ...               ...   \n",
      "145                6.7               3.0                5.2               2.3   \n",
      "146                6.3               2.5                5.0               1.9   \n",
      "147                6.5               3.0                5.2               2.0   \n",
      "148                6.2               3.4                5.4               2.3   \n",
      "149                5.9               3.0                5.1               1.8   \n",
      "\n",
      "     Decyzja  Predykcja  \n",
      "0          0          0  \n",
      "1          0          0  \n",
      "2          0          0  \n",
      "3          0          0  \n",
      "4          0          0  \n",
      "..       ...        ...  \n",
      "145        2          0  \n",
      "146        2          2  \n",
      "147        2          0  \n",
      "148        2          2  \n",
      "149        2          0  \n",
      "\n",
      "[150 rows x 6 columns]\n",
      "Dokładność klasyfikacji: 82.00%\n"
     ]
    }
   ],
   "execution_count": 4
  }
 ],
 "metadata": {
  "kernelspec": {
   "display_name": ".venv",
   "language": "python",
   "name": "python3"
  },
  "language_info": {
   "codemirror_mode": {
    "name": "ipython",
    "version": 3
   },
   "file_extension": ".py",
   "mimetype": "text/x-python",
   "name": "python",
   "nbconvert_exporter": "python",
   "pygments_lexer": "ipython3",
   "version": "3.12.10"
  }
 },
 "nbformat": 4,
 "nbformat_minor": 5
}
