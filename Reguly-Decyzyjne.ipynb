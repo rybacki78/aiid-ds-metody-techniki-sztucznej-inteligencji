{
 "cells": [
  {
   "cell_type": "markdown",
   "id": "7dc68bdd",
   "metadata": {},
   "source": [
    "# Reguły decyzyjne"
   ]
  },
  {
   "cell_type": "code",
   "id": "c555cc4d",
   "metadata": {
    "ExecuteTime": {
     "end_time": "2025-06-13T08:31:56.650007Z",
     "start_time": "2025-06-13T08:31:56.646821Z"
    }
   },
   "source": [
    "import pandas as pd\n",
    "from helpers import sequential_covering, predict"
   ],
   "outputs": [],
   "execution_count": 5
  },
  {
   "cell_type": "code",
   "id": "84c1330c",
   "metadata": {
    "ExecuteTime": {
     "end_time": "2025-06-13T08:31:56.718581Z",
     "start_time": "2025-06-13T08:31:56.705094Z"
    }
   },
   "source": [
    "# użycie zbioru danych z owocami i generowanie reguł decyzyjnych\n",
    "plik = \"data/owoce_dataset.txt\"\n",
    "\n",
    "df = pd.read_csv(plik, sep=\",\", header=None)\n",
    "df.columns = [\"Kolor\",\"Kształt\", \"Waga\", \"Decyzja\"]\n",
    "df.head(10)"
   ],
   "outputs": [
    {
     "data": {
      "text/plain": [
       "      Kolor    Kształt     Waga  Decyzja\n",
       "0  czerwony    okrągły    lekka   jabłko\n",
       "1   zielony    okrągły    lekka   jabłko\n",
       "2     żółty  wydłużony  średnia    banan\n",
       "3     żółty  wydłużony  średnia    banan\n",
       "4   zielony   podłużny    lekka  cytryna\n",
       "5     żółty   podłużny    lekka  cytryna\n",
       "6     żółty    okrągły  średnia  cytryna\n",
       "7  czerwony    okrągły  średnia   jabłko\n",
       "8     żółty  wydłużony    lekka    banan\n",
       "9   zielony    okrągły  średnia   jabłko"
      ],
      "text/html": [
       "<div>\n",
       "<style scoped>\n",
       "    .dataframe tbody tr th:only-of-type {\n",
       "        vertical-align: middle;\n",
       "    }\n",
       "\n",
       "    .dataframe tbody tr th {\n",
       "        vertical-align: top;\n",
       "    }\n",
       "\n",
       "    .dataframe thead th {\n",
       "        text-align: right;\n",
       "    }\n",
       "</style>\n",
       "<table border=\"1\" class=\"dataframe\">\n",
       "  <thead>\n",
       "    <tr style=\"text-align: right;\">\n",
       "      <th></th>\n",
       "      <th>Kolor</th>\n",
       "      <th>Kształt</th>\n",
       "      <th>Waga</th>\n",
       "      <th>Decyzja</th>\n",
       "    </tr>\n",
       "  </thead>\n",
       "  <tbody>\n",
       "    <tr>\n",
       "      <th>0</th>\n",
       "      <td>czerwony</td>\n",
       "      <td>okrągły</td>\n",
       "      <td>lekka</td>\n",
       "      <td>jabłko</td>\n",
       "    </tr>\n",
       "    <tr>\n",
       "      <th>1</th>\n",
       "      <td>zielony</td>\n",
       "      <td>okrągły</td>\n",
       "      <td>lekka</td>\n",
       "      <td>jabłko</td>\n",
       "    </tr>\n",
       "    <tr>\n",
       "      <th>2</th>\n",
       "      <td>żółty</td>\n",
       "      <td>wydłużony</td>\n",
       "      <td>średnia</td>\n",
       "      <td>banan</td>\n",
       "    </tr>\n",
       "    <tr>\n",
       "      <th>3</th>\n",
       "      <td>żółty</td>\n",
       "      <td>wydłużony</td>\n",
       "      <td>średnia</td>\n",
       "      <td>banan</td>\n",
       "    </tr>\n",
       "    <tr>\n",
       "      <th>4</th>\n",
       "      <td>zielony</td>\n",
       "      <td>podłużny</td>\n",
       "      <td>lekka</td>\n",
       "      <td>cytryna</td>\n",
       "    </tr>\n",
       "    <tr>\n",
       "      <th>5</th>\n",
       "      <td>żółty</td>\n",
       "      <td>podłużny</td>\n",
       "      <td>lekka</td>\n",
       "      <td>cytryna</td>\n",
       "    </tr>\n",
       "    <tr>\n",
       "      <th>6</th>\n",
       "      <td>żółty</td>\n",
       "      <td>okrągły</td>\n",
       "      <td>średnia</td>\n",
       "      <td>cytryna</td>\n",
       "    </tr>\n",
       "    <tr>\n",
       "      <th>7</th>\n",
       "      <td>czerwony</td>\n",
       "      <td>okrągły</td>\n",
       "      <td>średnia</td>\n",
       "      <td>jabłko</td>\n",
       "    </tr>\n",
       "    <tr>\n",
       "      <th>8</th>\n",
       "      <td>żółty</td>\n",
       "      <td>wydłużony</td>\n",
       "      <td>lekka</td>\n",
       "      <td>banan</td>\n",
       "    </tr>\n",
       "    <tr>\n",
       "      <th>9</th>\n",
       "      <td>zielony</td>\n",
       "      <td>okrągły</td>\n",
       "      <td>średnia</td>\n",
       "      <td>jabłko</td>\n",
       "    </tr>\n",
       "  </tbody>\n",
       "</table>\n",
       "</div>"
      ]
     },
     "execution_count": 6,
     "metadata": {},
     "output_type": "execute_result"
    }
   ],
   "execution_count": 6
  },
  {
   "cell_type": "code",
   "id": "b76b6ddb",
   "metadata": {
    "ExecuteTime": {
     "end_time": "2025-06-13T08:31:56.832593Z",
     "start_time": "2025-06-13T08:31:56.801695Z"
    }
   },
   "source": [
    "df[\"Decyzja\"] = df[\"Decyzja\"].map({\"jabłko\": 0, \"banan\":1,\"cytryna\": 2}) # mapowanie do numerycznych wartości\n",
    "\n",
    "X = df.drop(\"Decyzja\", axis=1)\n",
    "y = df[\"Decyzja\"]\n",
    "\n",
    "rules = sequential_covering(X, y, max_rules=5)\n",
    "\n",
    "print(\"Wygenerowane reguły decyzyjne:\")\n",
    "for rule, rule_class, count in rules:\n",
    "    print (\" AND \".join([f\"{atr} = {value}\" for atr, value in rule]), f\" -> Klasa: {rule_class}, Pokrycie: {count}\")"
   ],
   "outputs": [
    {
     "name": "stdout",
     "output_type": "stream",
     "text": [
      "Wygenerowane reguły decyzyjne:\n",
      "Kolor = czerwony  -> Klasa: 0, Pokrycie: 2\n",
      "Kształt = wydłużony  -> Klasa: 1, Pokrycie: 3\n",
      "Kształt = podłużny  -> Klasa: 2, Pokrycie: 2\n",
      "Kolor = zielony AND Kształt = okrągły  -> Klasa: 0, Pokrycie: 2\n",
      "Kształt = okrągły AND Kolor = żółty  -> Klasa: 2, Pokrycie: 1\n"
     ]
    }
   ],
   "execution_count": 7
  },
  {
   "cell_type": "code",
   "id": "5fa8b261",
   "metadata": {
    "ExecuteTime": {
     "end_time": "2025-06-13T08:31:56.972542Z",
     "start_time": "2025-06-13T08:31:56.963119Z"
    }
   },
   "source": [
    "# Testowanie modelu na zbiorze oryginalnym\n",
    "predictions = predict(X, rules)\n",
    "df[\"Predykcja\"] = predictions\n",
    "print(df)\n",
    "\n",
    "# Obliczenie dokładności\n",
    "accuracy = (df[\"Decyzja\"] == df[\"Predykcja\"]).mean()\n",
    "print(f\"Dokładność klasyfikacji: {accuracy * 100:.2f}%\")"
   ],
   "outputs": [
    {
     "name": "stdout",
     "output_type": "stream",
     "text": [
      "      Kolor    Kształt     Waga  Decyzja  Predykcja\n",
      "0  czerwony    okrągły    lekka        0          0\n",
      "1   zielony    okrągły    lekka        0          0\n",
      "2     żółty  wydłużony  średnia        1          1\n",
      "3     żółty  wydłużony  średnia        1          1\n",
      "4   zielony   podłużny    lekka        2          2\n",
      "5     żółty   podłużny    lekka        2          2\n",
      "6     żółty    okrągły  średnia        2          2\n",
      "7  czerwony    okrągły  średnia        0          0\n",
      "8     żółty  wydłużony    lekka        1          1\n",
      "9   zielony    okrągły  średnia        0          0\n",
      "Dokładność klasyfikacji: 100.00%\n"
     ]
    }
   ],
   "execution_count": 8
  }
 ],
 "metadata": {
  "kernelspec": {
   "display_name": ".venv",
   "language": "python",
   "name": "python3"
  },
  "language_info": {
   "codemirror_mode": {
    "name": "ipython",
    "version": 3
   },
   "file_extension": ".py",
   "mimetype": "text/x-python",
   "name": "python",
   "nbconvert_exporter": "python",
   "pygments_lexer": "ipython3",
   "version": "3.12.10"
  }
 },
 "nbformat": 4,
 "nbformat_minor": 5
}
